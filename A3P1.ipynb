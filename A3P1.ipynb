{
 "cells": [
  {
   "cell_type": "code",
   "execution_count": 1,
   "id": "1b5d6f94",
   "metadata": {},
   "outputs": [
    {
     "data": {
      "text/plain": [
       "'8+2+3+0+7=20'"
      ]
     },
     "execution_count": 1,
     "metadata": {},
     "output_type": "execute_result"
    }
   ],
   "source": [
    "items = (8, 2, 3, 0, 7)\n",
    "items_in_str = []\n",
    "for i in items:\n",
    "    items_in_str.append(str(i))\n",
    "lhs = '+'.join(items_in_str)\n",
    "rhs = sum(items)\n",
    "lhs+'='+str(rhs)"
   ]
  },
  {
   "cell_type": "code",
   "execution_count": null,
   "id": "6ce692eb",
   "metadata": {},
   "outputs": [],
   "source": []
  }
 ],
 "metadata": {
  "kernelspec": {
   "display_name": "Python 3 (ipykernel)",
   "language": "python",
   "name": "python3"
  },
  "language_info": {
   "codemirror_mode": {
    "name": "ipython",
    "version": 3
   },
   "file_extension": ".py",
   "mimetype": "text/x-python",
   "name": "python",
   "nbconvert_exporter": "python",
   "pygments_lexer": "ipython3",
   "version": "3.10.0"
  }
 },
 "nbformat": 4,
 "nbformat_minor": 5
}

{
 "cells": [
  {
   "cell_type": "code",
   "execution_count": 10,
   "id": "63371e7a",
   "metadata": {},
   "outputs": [
    {
     "name": "stdout",
     "output_type": "stream",
     "text": [
      "sorted:\n",
      "[(2, 1), (1, 2), (2, 3), (4, 4), (2, 5)]\n"
     ]
    }
   ],
   "source": [
    "x = [(2, 5), (1, 2), (4, 4), (2, 3), (2, 1)]\n",
    "def last(n):\n",
    "    return n[-1]\n",
    "def sort(x):\n",
    "    return sorted(x,key=last)\n",
    "print(\"sorted:\")\n",
    "print(sort(x))"
   ]
  },
  {
   "cell_type": "code",
   "execution_count": null,
   "id": "b29f8867",
   "metadata": {},
   "outputs": [],
   "source": []
  }
 ],
 "metadata": {
  "kernelspec": {
   "display_name": "Python 3 (ipykernel)",
   "language": "python",
   "name": "python3"
  },
  "language_info": {
   "codemirror_mode": {
    "name": "ipython",
    "version": 3
   },
   "file_extension": ".py",
   "mimetype": "text/x-python",
   "name": "python",
   "nbconvert_exporter": "python",
   "pygments_lexer": "ipython3",
   "version": "3.10.0"
  }
 },
 "nbformat": 4,
 "nbformat_minor": 5
}
